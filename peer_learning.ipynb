{
  "cells": [
    {
      "cell_type": "markdown",
      "metadata": {
        "id": "pBgBgxAG6q3s"
      },
      "source": [
        "# Peer Learning in ViT\n",
        "\n",
        "This is a notebook to implement a method called **peer learning** introduced for training small ViT models on small datasets. \n",
        "\n",
        "This notebook is a wrapper of the notebook provided [here](https://keras.io/examples/vision/deit/)."
      ]
    },
    {
      "cell_type": "markdown",
      "source": [
        "## Install and Import"
      ],
      "metadata": {
        "id": "XAoDIKgUIuzF"
      }
    },
    {
      "cell_type": "code",
      "execution_count": null,
      "metadata": {
        "colab": {
          "base_uri": "https://localhost:8080/"
        },
        "id": "OkJOYcZs2iVr",
        "outputId": "df2e5807-43ee-4e57-e2ae-c8fbfd54c489"
      },
      "outputs": [
        {
          "output_type": "stream",
          "name": "stdout",
          "text": [
            "Looking in indexes: https://pypi.org/simple, https://us-python.pkg.dev/colab-wheels/public/simple/\n",
            "Collecting tensorflow-addons\n",
            "  Downloading tensorflow_addons-0.20.0-cp39-cp39-manylinux_2_17_x86_64.manylinux2014_x86_64.whl (591 kB)\n",
            "\u001b[2K     \u001b[90m━━━━━━━━━━━━━━━━━━━━━━━━━━━━━━━━━━━━━━━\u001b[0m \u001b[32m591.0/591.0 kB\u001b[0m \u001b[31m8.5 MB/s\u001b[0m eta \u001b[36m0:00:00\u001b[0m\n",
            "\u001b[?25hCollecting typeguard<3.0.0,>=2.7\n",
            "  Downloading typeguard-2.13.3-py3-none-any.whl (17 kB)\n",
            "Requirement already satisfied: packaging in /usr/local/lib/python3.9/dist-packages (from tensorflow-addons) (23.1)\n",
            "Installing collected packages: typeguard, tensorflow-addons\n",
            "Successfully installed tensorflow-addons-0.20.0 typeguard-2.13.3\n"
          ]
        }
      ],
      "source": [
        "#for additonal capabilities\n",
        "!pip install tensorflow-addons"
      ]
    },
    {
      "cell_type": "code",
      "execution_count": null,
      "metadata": {
        "id": "y32ofkpt7rrq",
        "colab": {
          "base_uri": "https://localhost:8080/"
        },
        "outputId": "29ea88dd-d156-4306-ac04-ef0ec05e8cc6"
      },
      "outputs": [
        {
          "output_type": "stream",
          "name": "stderr",
          "text": [
            "/usr/local/lib/python3.9/dist-packages/tensorflow_addons/utils/tfa_eol_msg.py:23: UserWarning: \n",
            "\n",
            "TensorFlow Addons (TFA) has ended development and introduction of new features.\n",
            "TFA has entered a minimal maintenance and release mode until a planned end of life in May 2024.\n",
            "Please modify downstream libraries to take dependencies from other repositories in our TensorFlow community (e.g. Keras, Keras-CV, and Keras-NLP). \n",
            "\n",
            "For more information see: https://github.com/tensorflow/addons/issues/2807 \n",
            "\n",
            "  warnings.warn(\n"
          ]
        }
      ],
      "source": [
        "#import libraries\n",
        "from typing import List\n",
        "\n",
        "import tensorflow as tf\n",
        "import tensorflow_addons as tfa\n",
        "import tensorflow_datasets as tfds\n",
        "import tensorflow_hub as hub\n",
        "from tensorflow import keras\n",
        "from tensorflow.keras import layers\n",
        "import matplotlib.pyplot as plt\n",
        "\n",
        "tfds.disable_progress_bar()\n",
        "tf.keras.utils.set_random_seed(42)"
      ]
    },
    {
      "cell_type": "markdown",
      "metadata": {
        "id": "xp9VM3vK9ca3"
      },
      "source": [
        "## Hyperparameters for configuration and training\n",
        "\n",
        "Now, we set some hyper-parameters to configure the model and training data. The description of these variables are given below.\n",
        "\n",
        "\n",
        "1. RESOLUTION $(R)$ - The dimension of the input image patch (before getting patches)\n",
        "2. PATCH_SIZE $(P)$ - The dimension of the patches created from the input image.\n",
        "3. NUM_PATCHES $(N)$ - Number of patches created. This is given by, $$ N = \\left(\\frac{P}{R}\\right)^2$$\n",
        "4. LAYER_NORM_EPS - A small value added to the variance to avoid division by 0.\n",
        "5. PROJECTION_DIM - The projected vector dimension by each transformer block as well as the last layer of the MLP.\n",
        "7. NUM_HEADS - Number of self-attention heads.\n",
        "8. NUM_LAYERS - Number of transformer blocks\n",
        "9. MLP_UNITS - The number of units in the MLP. A list of number of units with the order starting from input to output dimension.\n",
        "10. DROPOUT_RATE - The probability of dropping out units in each layer of the MLP.\n",
        "11. DROP_PATH_RATE - The probability of dropping a path in the network. (*More info later*)\n",
        "12. NUM_EPOCHS - Training epochs\n",
        "13. BASE_LR - Initial learning rate\n",
        "14. WEIGHT_DECAY - Rate of decrease of learning rate per epoch.\n",
        "15. AUTO - Option to parallelize the dataset loading and pre-processing of the input step.\n",
        "\n",
        "\n",
        "\n"
      ]
    },
    {
      "cell_type": "code",
      "execution_count": null,
      "metadata": {
        "id": "sbuaIk3h8KMh"
      },
      "outputs": [],
      "source": [
        "# Model\n",
        "MODEL_TYPE = \"deit_distilled_tiny_patch16_224\"\n",
        "RESOLUTION = 224\n",
        "PATCH_SIZE = 16\n",
        "NUM_PATCHES = (RESOLUTION // PATCH_SIZE) ** 2\n",
        "LAYER_NORM_EPS = 1e-6\n",
        "PROJECTION_DIM = 192\n",
        "NUM_HEADS = 3\n",
        "NUM_LAYERS = 4\n",
        "MLP_UNITS = [\n",
        "    PROJECTION_DIM * 4,\n",
        "    PROJECTION_DIM,\n",
        "]\n",
        "DROPOUT_RATE = 0.0\n",
        "DROP_PATH_RATE = 0.1\n",
        "\n",
        "# Training\n",
        "NUM_EPOCHS = 20\n",
        "BASE_LR = 0.0005\n",
        "WEIGHT_DECAY = 0.0001\n",
        "\n",
        "# Data\n",
        "BATCH_SIZE = 50\n",
        "AUTO = tf.data.AUTOTUNE\n",
        "NUM_CLASSES = 5"
      ]
    },
    {
      "cell_type": "markdown",
      "metadata": {
        "id": "Zj00giEXEj0D"
      },
      "source": [
        "## Pre-process and Load Dataset\n",
        "\n",
        "We define some augmentation types on the input data. We have used resizing, random cropping and random left or right flip as the augmentation types. \n",
        "\n",
        "We have used the **tf_flowers** dataset. For links to detailed description check [here](https://www.tensorflow.org/datasets/catalog/tf_flowers). In short, there are 5 classes of flowers namely *daisy, dandelion, roses, sunflowers, tulips* and a total 3670 images in the  dataset. \n",
        "\n",
        "We have train-validation split of 90-10, in order."
      ]
    },
    {
      "cell_type": "code",
      "execution_count": null,
      "metadata": {
        "colab": {
          "base_uri": "https://localhost:8080/"
        },
        "id": "6bc2DVoREh88",
        "outputId": "12e422af-203e-47bd-9b7c-bf3793099ea1"
      },
      "outputs": [
        {
          "output_type": "stream",
          "name": "stdout",
          "text": [
            "Downloading and preparing dataset Unknown size (download: Unknown size, generated: Unknown size, total: Unknown size) to /root/tensorflow_datasets/tf_flowers/3.0.1...\n",
            "Dataset tf_flowers downloaded and prepared to /root/tensorflow_datasets/tf_flowers/3.0.1. Subsequent calls will reuse this data.\n",
            "Number of training examples: 3303\n",
            "Number of validation examples: 367\n"
          ]
        }
      ],
      "source": [
        "def preprocess_dataset(is_training=True):\n",
        "    def fn(image, label):\n",
        "        if is_training:\n",
        "            # Resize to a bigger spatial resolution and take the random\n",
        "            # crops.\n",
        "            image = tf.image.resize(image, (RESOLUTION + 20, RESOLUTION + 20))\n",
        "            image = tf.image.random_crop(image, (RESOLUTION, RESOLUTION, 3))\n",
        "            image = tf.image.random_flip_left_right(image)\n",
        "        else:\n",
        "            image = tf.image.resize(image, (RESOLUTION, RESOLUTION))\n",
        "        label = tf.one_hot(label, depth=NUM_CLASSES)\n",
        "        return image, label\n",
        "\n",
        "    return fn\n",
        "\n",
        "\n",
        "def prepare_dataset(dataset, is_training=True):\n",
        "    if is_training:\n",
        "        dataset = dataset.shuffle(BATCH_SIZE * 10)\n",
        "    dataset = dataset.map(preprocess_dataset(is_training), num_parallel_calls=AUTO)\n",
        "    return dataset.batch(BATCH_SIZE).prefetch(AUTO)\n",
        "\n",
        "\n",
        "train_dataset, val_dataset = tfds.load(\n",
        "    \"tf_flowers\", split=[\"train[:90%]\", \"train[90%:]\"], as_supervised=True\n",
        ")\n",
        "num_train = train_dataset.cardinality()\n",
        "num_val = val_dataset.cardinality()\n",
        "print(f\"Number of training examples: {num_train}\")\n",
        "print(f\"Number of validation examples: {num_val}\")\n",
        "\n",
        "train_dataset = prepare_dataset(train_dataset, is_training=True)\n",
        "val_dataset = prepare_dataset(val_dataset, is_training=False)"
      ]
    },
    {
      "cell_type": "code",
      "execution_count": null,
      "metadata": {
        "colab": {
          "base_uri": "https://localhost:8080/"
        },
        "id": "jVxW8vSZ7qex",
        "outputId": "d7f929e6-51ed-4da1-e6b1-de395cf64fc9"
      },
      "outputs": [
        {
          "output_type": "stream",
          "name": "stdout",
          "text": [
            "(50, 5)\n",
            "(50, 5)\n",
            "(50, 5)\n",
            "(50, 5)\n",
            "(50, 5)\n",
            "(50, 5)\n",
            "(50, 5)\n",
            "(17, 5)\n"
          ]
        }
      ],
      "source": [
        "for instance in val_dataset:\n",
        "  print(instance[-1].numpy().shape)"
      ]
    },
    {
      "cell_type": "markdown",
      "metadata": {
        "id": "D8WAVOsmF8wn"
      },
      "source": [
        "## Define Vanilla ViT Classifier\n",
        "\n",
        "We now define the \"vanilla\" ViT model with the transformer blocks and the MLP. \n",
        "\n",
        "We have defined a **StochasticDepth** class that implements the drop-path algorithm described [here](https://arxiv.org/abs/1603.09382). Like drop-out that prevents co-adaptation of activations that may lead to overfitting and hence provides a regularization effect, drop-path prevents co-adaptation of parallel paths. This is added in the transformer blocks."
      ]
    },
    {
      "cell_type": "code",
      "execution_count": null,
      "metadata": {
        "id": "cb30vtHMF3h7"
      },
      "outputs": [],
      "source": [
        "class StochasticDepth(layers.Layer):\n",
        "    def __init__(self, drop_prop, **kwargs):\n",
        "        super().__init__(**kwargs)\n",
        "        self.drop_prob = drop_prop\n",
        "\n",
        "    def call(self, x, training=True):\n",
        "        if training:\n",
        "            keep_prob = 1 - self.drop_prob\n",
        "            shape = (tf.shape(x)[0],) + (1,) * (len(tf.shape(x)) - 1)\n",
        "            random_tensor = keep_prob + tf.random.uniform(shape, 0, 1)\n",
        "            random_tensor = tf.floor(random_tensor)\n",
        "            return (x / keep_prob) * random_tensor\n",
        "        return x"
      ]
    },
    {
      "cell_type": "code",
      "execution_count": null,
      "metadata": {
        "id": "OuZVmNe6HQSl"
      },
      "outputs": [],
      "source": [
        "#a single transformer block\n",
        "\n",
        "def mlp(x, dropout_rate: float, hidden_units: List):\n",
        "    \"\"\"FFN for a Transformer block.\"\"\"\n",
        "    # Iterate over the hidden units and\n",
        "    # add Dense => Dropout.\n",
        "    for (idx, units) in enumerate(hidden_units):\n",
        "        x = layers.Dense(\n",
        "            units,\n",
        "            activation=tf.nn.gelu if idx == 0 else None,\n",
        "        )(x)\n",
        "        x = layers.Dropout(dropout_rate)(x)\n",
        "    return x\n",
        "\n",
        "\n",
        "def transformer(drop_prob: float, name: str) -> keras.Model:\n",
        "    \"\"\"Transformer block with pre-norm.\"\"\"\n",
        "    num_patches = NUM_PATCHES + 1\n",
        "    encoded_patches = layers.Input((num_patches, PROJECTION_DIM))\n",
        "\n",
        "    # Layer normalization 1.\n",
        "    x1 = layers.LayerNormalization(epsilon=LAYER_NORM_EPS)(encoded_patches)\n",
        "\n",
        "    # Multi Head Self Attention layer 1.\n",
        "    attention_output = layers.MultiHeadAttention(\n",
        "        num_heads=NUM_HEADS,\n",
        "        key_dim=PROJECTION_DIM,\n",
        "        dropout=DROPOUT_RATE,\n",
        "    )(x1, x1)\n",
        "    attention_output = (\n",
        "        StochasticDepth(drop_prob)(attention_output) if drop_prob else attention_output\n",
        "    )\n",
        "\n",
        "    # Skip connection 1.\n",
        "    x2 = layers.Add()([attention_output, encoded_patches])\n",
        "\n",
        "    # Layer normalization 2.\n",
        "    x3 = layers.LayerNormalization(epsilon=LAYER_NORM_EPS)(x2)\n",
        "\n",
        "    # MLP layer 1.\n",
        "    x4 = mlp(x3, hidden_units=MLP_UNITS, dropout_rate=DROPOUT_RATE)\n",
        "    x4 = StochasticDepth(drop_prob)(x4) if drop_prob else x4\n",
        "\n",
        "    # Skip connection 2.\n",
        "    outputs = layers.Add()([x2, x4])\n",
        "\n",
        "    return keras.Model(encoded_patches, outputs, name=name)"
      ]
    },
    {
      "cell_type": "code",
      "execution_count": null,
      "metadata": {
        "id": "DZFb8lbtHWq8"
      },
      "outputs": [],
      "source": [
        "class ViTClassifier(keras.Model):\n",
        "    \"\"\"Vision Transformer base class.\"\"\"\n",
        "\n",
        "    def __init__(self, **kwargs):\n",
        "        super().__init__(**kwargs)\n",
        "\n",
        "        # Patchify + linear projection + reshaping.\n",
        "        self.projection = keras.Sequential(\n",
        "            [\n",
        "                layers.Conv2D(\n",
        "                    filters=PROJECTION_DIM,\n",
        "                    kernel_size=(PATCH_SIZE, PATCH_SIZE),\n",
        "                    strides=(PATCH_SIZE, PATCH_SIZE),\n",
        "                    padding=\"VALID\",\n",
        "                    name=\"conv_projection\",\n",
        "                ),\n",
        "                layers.Reshape(\n",
        "                    target_shape=(NUM_PATCHES, PROJECTION_DIM),\n",
        "                    name=\"flatten_projection\",\n",
        "                ),\n",
        "            ],\n",
        "            name=\"projection\",\n",
        "        )\n",
        "\n",
        "        # Positional embedding.\n",
        "        init_shape = (\n",
        "            1,\n",
        "            NUM_PATCHES + 1,\n",
        "            PROJECTION_DIM,\n",
        "        )\n",
        "        self.positional_embedding = tf.Variable(\n",
        "            tf.zeros(init_shape), name=\"pos_embedding\"\n",
        "        )\n",
        "\n",
        "        # Transformer blocks.\n",
        "        dpr = [x for x in tf.linspace(0.0, DROP_PATH_RATE, NUM_LAYERS)]\n",
        "        self.transformer_blocks = [\n",
        "            transformer(drop_prob=dpr[i], name=f\"transformer_block_{i}\")\n",
        "            for i in range(NUM_LAYERS)\n",
        "        ]\n",
        "\n",
        "        # CLS token.\n",
        "        initial_value = tf.zeros((1, 1, PROJECTION_DIM))\n",
        "        self.cls_token = tf.Variable(\n",
        "            initial_value=initial_value, trainable=True, name=\"cls\"\n",
        "        )\n",
        "\n",
        "        # Other layers.\n",
        "        self.dropout = layers.Dropout(DROPOUT_RATE)\n",
        "        self.layer_norm = layers.LayerNormalization(epsilon=LAYER_NORM_EPS)\n",
        "        self.head = layers.Dense(\n",
        "            NUM_CLASSES,\n",
        "            name=\"classification_head\",\n",
        "        )\n",
        "\n",
        "    def call(self, inputs, training=True):\n",
        "        n = tf.shape(inputs)[0]\n",
        "\n",
        "        # Create patches and project the patches.\n",
        "        projected_patches = self.projection(inputs)\n",
        "\n",
        "        # Append class token if needed.\n",
        "        cls_token = tf.tile(self.cls_token, (n, 1, 1))\n",
        "        cls_token = tf.cast(cls_token, projected_patches.dtype)\n",
        "        projected_patches = tf.concat([cls_token, projected_patches], axis=1)\n",
        "\n",
        "        # Add positional embeddings to the projected patches.\n",
        "        encoded_patches = (\n",
        "            self.positional_embedding + projected_patches\n",
        "        )  # (B, number_patches, projection_dim)\n",
        "        encoded_patches = self.dropout(encoded_patches)\n",
        "\n",
        "        # Iterate over the number of layers and stack up blocks of\n",
        "        # Transformer.\n",
        "        for transformer_module in self.transformer_blocks:\n",
        "            # Add a Transformer block.\n",
        "            encoded_patches = transformer_module(encoded_patches)\n",
        "\n",
        "        # Final layer normalization.\n",
        "        representation = self.layer_norm(encoded_patches)\n",
        "\n",
        "        # Pool representation.\n",
        "        encoded_patches = representation[:, 0]\n",
        "\n",
        "        # Classification head.\n",
        "        output = self.head(encoded_patches)\n",
        "        return output"
      ]
    },
    {
      "cell_type": "markdown",
      "metadata": {
        "id": "gqBs7B24L0Q7"
      },
      "source": [
        "## Define the peer-learning trainer\n",
        "\n",
        "Here we take 2 simple ViT classifier as student models and no pre-trained teacher model. We call each of these models *peer*. \n",
        "\n",
        "These models produce their own class token on each call and these tokens are used to exchange information between peers using the following loss function.\n",
        "\n",
        "$$ \\mathbb{L} = \\mathbb{L}_{CE}(y_t, y_p^1) + \\mathbb{L}_{CE}(y_t, y_p^2) + \\mathbb{L}_{KL}(\\psi(Z_p^1), \\psi(Z_p^2))$$\n",
        "\n",
        "where $y_p^i$ and $Z_p^i$ are the prediction and logits of the $i_{th}$ student.\n",
        "\n",
        "So we basically want to reduce the loss with ground truth for both models as well as make sure they fit the data equally well."
      ]
    },
    {
      "cell_type": "code",
      "source": [
        "class peerTrainer(keras.Model):\n",
        "    # Reference:\n",
        "    # https://keras.io/examples/vision/knowledge_distillation/\n",
        "    def __init__(self, student_vit, lamda = 0.9, soft_temp = 5, **kwargs):\n",
        "        super().__init__(**kwargs)\n",
        "        \n",
        "        self.peer1, self.peer2 = student_vit, student_vit\n",
        "        self.lamda = lamda\n",
        "        self.soft_temp = soft_temp\n",
        "\n",
        "        self.peer1_loss_tracker = keras.metrics.Mean(name=\"peer_loss_1\")\n",
        "        self.peer2_loss_tracker = keras.metrics.Mean(name=\"peer_loss_2\")\n",
        "\n",
        "        self.distribution_loss = keras.losses.KLDivergence()\n",
        "\n",
        "    @property\n",
        "    def metrics(self):\n",
        "        metrics = super().metrics\n",
        "        metrics.append(self.peer1_loss_tracker)\n",
        "        metrics.append(self.peer2_loss_tracker)\n",
        "        return metrics\n",
        "\n",
        "    def compile(\n",
        "        self,\n",
        "        optimizer,\n",
        "        metrics,\n",
        "        student_loss_fn,\n",
        "    ):\n",
        "        super().compile(optimizer=optimizer, metrics=metrics)\n",
        "        self.student_loss_fn = student_loss_fn\n",
        "\n",
        "    def train_step(self, data):\n",
        "        # Unpack data.\n",
        "        x, y = data\n",
        "\n",
        "        with tf.GradientTape(persistent=True) as tape:\n",
        "            # Forward pass of peers and compute losses with ground truth\n",
        "            cls_predictions_1 = self.peer1(x / 255.0, training=True)  #peer 1 logits\n",
        "            cls_predictions_2 = self.peer2(x / 255.0, training=True)  #peer 2 logits\n",
        "\n",
        "            peer1_loss = self.student_loss_fn(y, cls_predictions_1)   #from logits\n",
        "            peer2_loss = self.student_loss_fn(y, cls_predictions_2)   #from logits   \n",
        "\n",
        "            # Compute probability distribution from logits and compute divergence of distribution\n",
        "            peer1_prob_dist = tf.nn.softmax(cls_predictions_1, -1)\n",
        "            peer2_prob_dist = tf.nn.softmax(cls_predictions_2, -1) \n",
        "            divergence_loss = self.distribution_loss(peer1_prob_dist/self.soft_temp, peer2_prob_dist/self.soft_temp)\n",
        "\n",
        "            #compute loss\n",
        "            loss = peer1_loss + peer2_loss + self.lamda*divergence_loss                                                               \n",
        "\n",
        "        # Compute gradients.\n",
        "        peer1_trainable_vars = self.peer1.trainable_variables\n",
        "        peer2_trainable_vars = self.peer2.trainable_variables\n",
        "        peer1_gradients = tape.gradient(loss, peer1_trainable_vars)\n",
        "        peer2_gradients = tape.gradient(loss, peer2_trainable_vars)\n",
        "\n",
        "        # Update weights.\n",
        "        self.optimizer.apply_gradients(zip(peer1_gradients, peer1_trainable_vars))\n",
        "        self.optimizer.apply_gradients(zip(peer2_gradients, peer2_trainable_vars))\n",
        "\n",
        "        # Update the metrics configured in `compile()`.\n",
        "        self.compiled_metrics.update_state(y, cls_predictions_1)  #output prediction with only peer 1\n",
        "        self.peer1_loss_tracker.update_state(peer1_loss)\n",
        "        self.peer2_loss_tracker.update_state(peer2_loss)\n",
        "\n",
        "        # Return a dict of performance.\n",
        "        results = {m.name: m.result() for m in self.metrics}\n",
        "        return results\n",
        "\n",
        "    def test_step(self, data):\n",
        "        # Unpack the data.\n",
        "        x, y = data\n",
        "\n",
        "        # Compute predictions.\n",
        "        y_prediction = self.peer1(x / 255.0, training=False)      #output prediction with only peer 1\n",
        "\n",
        "        # Calculate the loss.\n",
        "        student_loss = self.student_loss_fn(y, y_prediction)\n",
        "\n",
        "        # Update the metrics.\n",
        "        self.compiled_metrics.update_state(y, y_prediction)\n",
        "        self.peer1_loss_tracker.update_state(student_loss)\n",
        "\n",
        "        # Return a dict of performance.\n",
        "        results = {m.name: m.result() for m in self.metrics}\n",
        "        return results\n",
        "\n",
        "    def call(self, inputs):\n",
        "        return self.peer1(inputs / 255.0, training=False)"
      ],
      "metadata": {
        "id": "O3hZ5tijxQYb"
      },
      "execution_count": null,
      "outputs": []
    },
    {
      "cell_type": "markdown",
      "metadata": {
        "id": "XMmRAdlTXvmQ"
      },
      "source": [
        "## Training and Testing\n",
        "\n",
        "We have used **categorical cross-entropy** for student losses. The optimizer used is AdamW provided by the keras addon library."
      ]
    },
    {
      "cell_type": "code",
      "execution_count": null,
      "metadata": {
        "id": "EoF7wKdmXXPi",
        "colab": {
          "base_uri": "https://localhost:8080/"
        },
        "outputId": "de7f7e98-933f-4d87-9875-680e4d9aed87"
      },
      "outputs": [
        {
          "output_type": "stream",
          "name": "stdout",
          "text": [
            "Epoch 1/20\n",
            "67/67 [==============================] - 57s 471ms/step - accuracy: 0.2701 - peer_loss_1: 1.6960 - peer_loss_2: 1.6968 - val_accuracy: 0.3842 - val_peer_loss_1: 1.4071 - val_peer_loss_2: 0.0000e+00\n",
            "Epoch 2/20\n",
            "67/67 [==============================] - 33s 493ms/step - accuracy: 0.4287 - peer_loss_1: 1.3599 - peer_loss_2: 1.3610 - val_accuracy: 0.4005 - val_peer_loss_1: 1.4250 - val_peer_loss_2: 0.0000e+00\n",
            "Epoch 3/20\n",
            "67/67 [==============================] - 34s 499ms/step - accuracy: 0.5147 - peer_loss_1: 1.2618 - peer_loss_2: 1.2620 - val_accuracy: 0.4986 - val_peer_loss_1: 1.2383 - val_peer_loss_2: 0.0000e+00\n",
            "Epoch 4/20\n",
            "67/67 [==============================] - 33s 486ms/step - accuracy: 0.5628 - peer_loss_1: 1.2106 - peer_loss_2: 1.2087 - val_accuracy: 0.5477 - val_peer_loss_1: 1.2075 - val_peer_loss_2: 0.0000e+00\n",
            "Epoch 5/20\n",
            "67/67 [==============================] - 34s 503ms/step - accuracy: 0.5922 - peer_loss_1: 1.1480 - peer_loss_2: 1.1488 - val_accuracy: 0.5722 - val_peer_loss_1: 1.1220 - val_peer_loss_2: 0.0000e+00\n",
            "Epoch 6/20\n",
            "67/67 [==============================] - 33s 489ms/step - accuracy: 0.5988 - peer_loss_1: 1.1539 - peer_loss_2: 1.1483 - val_accuracy: 0.6185 - val_peer_loss_1: 1.1187 - val_peer_loss_2: 0.0000e+00\n",
            "Epoch 7/20\n",
            "67/67 [==============================] - 33s 493ms/step - accuracy: 0.6200 - peer_loss_1: 1.1107 - peer_loss_2: 1.1102 - val_accuracy: 0.5695 - val_peer_loss_1: 1.1317 - val_peer_loss_2: 0.0000e+00\n",
            "Epoch 8/20\n",
            "67/67 [==============================] - 34s 502ms/step - accuracy: 0.6261 - peer_loss_1: 1.0805 - peer_loss_2: 1.0843 - val_accuracy: 0.6267 - val_peer_loss_1: 1.0492 - val_peer_loss_2: 0.0000e+00\n",
            "Epoch 9/20\n",
            "67/67 [==============================] - 34s 510ms/step - accuracy: 0.6503 - peer_loss_1: 1.0606 - peer_loss_2: 1.0614 - val_accuracy: 0.6267 - val_peer_loss_1: 1.0486 - val_peer_loss_2: 0.0000e+00\n",
            "Epoch 10/20\n",
            "67/67 [==============================] - 33s 498ms/step - accuracy: 0.6512 - peer_loss_1: 1.0473 - peer_loss_2: 1.0525 - val_accuracy: 0.6458 - val_peer_loss_1: 1.0400 - val_peer_loss_2: 0.0000e+00\n",
            "Epoch 11/20\n",
            "67/67 [==============================] - 33s 493ms/step - accuracy: 0.6379 - peer_loss_1: 1.0606 - peer_loss_2: 1.0623 - val_accuracy: 0.6185 - val_peer_loss_1: 1.0609 - val_peer_loss_2: 0.0000e+00\n",
            "Epoch 12/20\n",
            "67/67 [==============================] - 33s 497ms/step - accuracy: 0.6691 - peer_loss_1: 1.0220 - peer_loss_2: 1.0258 - val_accuracy: 0.6049 - val_peer_loss_1: 1.0968 - val_peer_loss_2: 0.0000e+00\n",
            "Epoch 13/20\n",
            "67/67 [==============================] - 33s 500ms/step - accuracy: 0.6712 - peer_loss_1: 1.0301 - peer_loss_2: 1.0315 - val_accuracy: 0.6294 - val_peer_loss_1: 1.0403 - val_peer_loss_2: 0.0000e+00\n",
            "Epoch 14/20\n",
            "67/67 [==============================] - 33s 497ms/step - accuracy: 0.6697 - peer_loss_1: 1.0151 - peer_loss_2: 1.0152 - val_accuracy: 0.6322 - val_peer_loss_1: 1.0088 - val_peer_loss_2: 0.0000e+00\n",
            "Epoch 15/20\n",
            "67/67 [==============================] - 34s 499ms/step - accuracy: 0.6549 - peer_loss_1: 1.0429 - peer_loss_2: 1.0402 - val_accuracy: 0.6185 - val_peer_loss_1: 1.0609 - val_peer_loss_2: 0.0000e+00\n",
            "Epoch 16/20\n",
            "67/67 [==============================] - 33s 497ms/step - accuracy: 0.6712 - peer_loss_1: 1.0106 - peer_loss_2: 1.0100 - val_accuracy: 0.6158 - val_peer_loss_1: 1.1102 - val_peer_loss_2: 0.0000e+00\n",
            "Epoch 17/20\n",
            "67/67 [==============================] - 33s 496ms/step - accuracy: 0.6942 - peer_loss_1: 0.9800 - peer_loss_2: 0.9845 - val_accuracy: 0.6757 - val_peer_loss_1: 0.9785 - val_peer_loss_2: 0.0000e+00\n",
            "Epoch 18/20\n",
            "67/67 [==============================] - 34s 501ms/step - accuracy: 0.6836 - peer_loss_1: 1.0037 - peer_loss_2: 1.0010 - val_accuracy: 0.7248 - val_peer_loss_1: 0.9392 - val_peer_loss_2: 0.0000e+00\n",
            "Epoch 19/20\n",
            "67/67 [==============================] - 33s 498ms/step - accuracy: 0.6757 - peer_loss_1: 0.9826 - peer_loss_2: 0.9796 - val_accuracy: 0.6757 - val_peer_loss_1: 0.9430 - val_peer_loss_2: 0.0000e+00\n",
            "Epoch 20/20\n",
            "67/67 [==============================] - 33s 496ms/step - accuracy: 0.6991 - peer_loss_1: 0.9662 - peer_loss_2: 0.9670 - val_accuracy: 0.6921 - val_peer_loss_1: 0.9416 - val_peer_loss_2: 0.0000e+00\n"
          ]
        }
      ],
      "source": [
        "peer_template = ViTClassifier()\n",
        "peer_model = peerTrainer(student_vit = peer_template)\n",
        "\n",
        "lr_scaled = (BASE_LR / 512) * BATCH_SIZE\n",
        "\n",
        "peer_model.compile(\n",
        "      optimizer=tfa.optimizers.AdamW(weight_decay=WEIGHT_DECAY, learning_rate=lr_scaled),\n",
        "      metrics=[\"accuracy\"],\n",
        "      student_loss_fn=keras.losses.CategoricalCrossentropy(\n",
        "          from_logits=True, label_smoothing=0.1\n",
        "      )\n",
        "  )\n",
        "\n",
        "training_history = peer_model.fit(train_dataset, validation_data=val_dataset, epochs=NUM_EPOCHS)\n"
      ]
    },
    {
      "cell_type": "markdown",
      "source": [
        "## Metric visualization"
      ],
      "metadata": {
        "id": "nElgnqjLKSSE"
      }
    },
    {
      "cell_type": "code",
      "source": [
        "#compare between train and validation accuracy\n",
        "train_accuracy = training_history.history['accuracy']\n",
        "val_accuracy = training_history.history['val_accuracy']\n",
        "\n",
        "#compare between peer losses\n",
        "peer1_loss = training_history.history['peer_loss_1']\n",
        "peer2_loss = training_history.history['peer_loss_2']"
      ],
      "metadata": {
        "id": "LVkYsWS3JRSB"
      },
      "execution_count": null,
      "outputs": []
    },
    {
      "cell_type": "code",
      "source": [
        "x = [i+1 for i in range(NUM_EPOCHS)]\n",
        "plt.plot(x, train_accuracy, label = 'train accuracy')\n",
        "plt.plot(x, val_accuracy, label = 'val accuracy')\n",
        "plt.xlabel('Epoch')\n",
        "plt.ylabel('Accuracy')\n",
        "plt.legend()\n",
        "plt.title('Train and Validation Accuracy')\n",
        "plt.plot()\n",
        "plt.savefig('train_val.pdf')"
      ],
      "metadata": {
        "colab": {
          "base_uri": "https://localhost:8080/",
          "height": 472
        },
        "id": "tIE68uOPKYcx",
        "outputId": "99580761-d24b-4235-f39f-f03992440496"
      },
      "execution_count": null,
      "outputs": [
        {
          "output_type": "display_data",
          "data": {
            "text/plain": [
              "<Figure size 640x480 with 1 Axes>"
            ],
            "image/png": "[encoded data removed]"
          },
          "metadata": {}
        }
      ]
    },
    {
      "cell_type": "code",
      "source": [
        "x = [i+1 for i in range(NUM_EPOCHS)]\n",
        "plt.plot(x, peer1_loss, label = 'peer 1 loss')\n",
        "plt.plot(x, peer2_loss, label = 'peer 2 loss')\n",
        "plt.xlabel('Epoch')\n",
        "plt.ylabel('Cross Entropy Loss')\n",
        "plt.legend()\n",
        "plt.title('Peer loss comparison')\n",
        "plt.plot()\n",
        "plt.savefig('peer_loss_comparison.pdf')"
      ],
      "metadata": {
        "colab": {
          "base_uri": "https://localhost:8080/",
          "height": 472
        },
        "id": "jUJE4CFQL3z_",
        "outputId": "9475ceb9-fb41-45d1-bd05-b373bd7229e5"
      },
      "execution_count": null,
      "outputs": [
        {
          "output_type": "display_data",
          "data": {
            "text/plain": [
              "<Figure size 640x480 with 1 Axes>"
            ],
            "image/png": "[encoded data removed]"
          },
          "metadata": {}
        }
      ]
    }
  ],
  "metadata": {
    "colab": {
      "provenance": [],
      "toc_visible": true
    },
    "gpuClass": "standard",
    "kernelspec": {
      "display_name": "Python 3",
      "name": "python3"
    },
    "language_info": {
      "name": "python"
    },
    "accelerator": "GPU"
  },
  "nbformat": 4,
  "nbformat_minor": 0
}